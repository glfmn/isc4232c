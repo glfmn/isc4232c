{
 "cells": [
  {
   "cell_type": "markdown",
   "metadata": {},
   "source": [
    "#  Lab 2: Stability and Multistep Methods\n",
    "Gwen Lofman"
   ]
  },
  {
   "cell_type": "code",
   "execution_count": null,
   "metadata": {},
   "outputs": [],
   "source": [
    "(require '[clojupyter.misc.helper :as helper])\n",
    "(require '[clojupyter.misc.display :as display])\n",
    "\n",
    "(helper/add-dependencies '[incanter \"1.5.7\"])\n",
    "(helper/add-dependencies '[org.clojure/math.numeric-tower \"0.0.4\"])\n",
    "\n",
    "(require '[clojure.core.reducers :as r])\n",
    "(require '[clojure.math.numeric-tower :as math])\n",
    "(use '(incanter core stats charts io))"
   ]
  },
  {
   "cell_type": "markdown",
   "metadata": {},
   "source": [
    "## Stability of Forward and Backward Euler"
   ]
  },
  {
   "cell_type": "code",
   "execution_count": null,
   "metadata": {},
   "outputs": [],
   "source": [
    "(defn calculate-stability\n",
    "  \"Calculate the stability region from a function `lambda`\n",
    "\n",
    "  Return a nexted map:\n",
    "\n",
    "  {:unstable {:x xs :y ys}\n",
    "   :stable   {:x xs :y ys}}\n",
    "\n",
    "  Where xs and ys are the x and y coordinates in the region\n",
    "  corresponding to the key.\"\n",
    "  [lambda]\n",
    "  (let [xs (range -2 2.01 0.01)\n",
    "        ys (range -2 2.01 0.01)\n",
    "        l (fn [z i] (if (< (lambda z i) 1) :stable :unstable))\n",
    "        split (fn [m] {:x (mapv first m) :y (mapv second m)})]\n",
    "    (transduce\n",
    "     (comp (map #(for [y ys] [% y]))\n",
    "           cat\n",
    "           (map (fn [[x y]] {:p [x y] :v (l x y)})))\n",
    "     (fn\n",
    "       ([] {:stable [] :unstable []})\n",
    "       ([acc v]\n",
    "        (let [which (if (= (:v v) :stable) :stable :unstable)]\n",
    "          (update acc which  #(conj % (:p v)))))\n",
    "       ([acc] (-> acc\n",
    "                  (update :stable split)\n",
    "                  (update :unstable split))))\n",
    "     xs)))"
   ]
  },
  {
   "cell_type": "code",
   "execution_count": null,
   "metadata": {},
   "outputs": [],
   "source": [
    "(defn plot-stability\n",
    "  \"Plot `lambda`, the function for the stability region\n",
    "\n",
    "  `lambda` is expected to take two parameters `z` and `i` and\n",
    "  return a float,  and the region of stability is the region\n",
    "  where lambda is less than 1.\"\n",
    "  [lambda]\n",
    "  (let [regions (calculate-stability lambda)\n",
    "        stable (:stable regions)\n",
    "        unstable (:unstable regions)]\n",
    "    (-> (scatter-plot (:x unstable) (:y unstable)\n",
    "                      :x-label \"Real component\"\n",
    "                      :y-label \"Complex component\")\n",
    "        (add-points (:x stable) (:y stable)))))"
   ]
  },
  {
   "cell_type": "code",
   "execution_count": null,
   "metadata": {},
   "outputs": [],
   "source": [
    "(-> (plot-stability\n",
    "     (fn [r i]\n",
    "       (Math/sqrt (+ (Math/pow (+ 1 r) 2)\n",
    "                     (Math/pow i 2)))))\n",
    "    (set-title \"Forward Euler Stability\")\n",
    "    (.createBufferedImage 500 500))"
   ]
  },
  {
   "cell_type": "markdown",
   "metadata": {},
   "source": [
    "Forward Euler's stability region does not include the entire left-hand plane; this means that the method is not stable for all IVPs, or that reducing $\\Delta t$ does not guarantee convergence of the global truncation error."
   ]
  },
  {
   "cell_type": "code",
   "execution_count": null,
   "metadata": {},
   "outputs": [],
   "source": [
    "(-> (plot-stability\n",
    "     (fn [r i]\n",
    "       (/ 1 (Math/sqrt (+ (Math/pow (- 1 r) 2)\n",
    "                          (Math/pow i 2))))))\n",
    "    (set-title \"Backward Euler Stability\")\n",
    "    (.createBufferedImage 500 500))"
   ]
  },
  {
   "cell_type": "markdown",
   "metadata": {},
   "source": [
    "We can see from the stability region of Backward Euler that the entire left-hand plane is stable (blue); this means that Backward Euler is A-Stable."
   ]
  },
  {
   "cell_type": "markdown",
   "metadata": {},
   "source": [
    "## 4th order explicit Runge Kutta Method"
   ]
  },
  {
   "cell_type": "code",
   "execution_count": null,
   "metadata": {},
   "outputs": [],
   "source": [
    "(defn rk4\n",
    "  \"Runge-Kutta explicit 4th order method\n",
    "\n",
    "  Use the function `f` which takes two variables, y and t, its\n",
    "  initial values `t0` and `y0` and solve the initial value\n",
    "  problem, stopping at `tf`, taking steps of size `dt`.\n",
    "\n",
    "  Convergence is O(`dt`^4), and this method is not A-Stable.\n",
    "\n",
    "  Returns the vector `ys` of approximate solutions to the\n",
    "  initial value problem, along with the vector `ts` of t values\n",
    "  associated with each y in the form [`ys` `ts`].\"\n",
    "  [f y0 t0 tf dt]\n",
    "  (loop [yn y0 ys [y0] tn t0 ts [t0]]\n",
    "    (if (< tn tf)\n",
    "      (let [;; Calculate k stage-by-stage for efficiency\n",
    "            k1 (f yn tn)\n",
    "            k2 (f (+ yn (* dt 0.5 k1)) (+ tn (* dt 0.5)))\n",
    "            k3 (f (+ yn (* dt 0.5 k2)) (+ tn (* dt 0.5)))\n",
    "            k4 (f (+ yn (* dt k3)) (+ tn dt))\n",
    "            ;; Calculate the new yn from the stages\n",
    "            ks (+ (* k1 (/ 1. 6))\n",
    "                  (* k2 (/ 1. 3))\n",
    "                  (* k3 (/ 1. 3))\n",
    "                  (* k4 (/ 1. 6)))\n",
    "            yn (+ yn (* dt ks))\n",
    "            tn (+ tn dt)]\n",
    "        (recur yn (conj ys yn) tn (conj ts tn)))\n",
    "      [ys ts])))"
   ]
  },
  {
   "cell_type": "markdown",
   "metadata": {},
   "source": [
    "We can verify our implementation using a function with a known exact solution.  To do this we will use:\n",
    "\n",
    "$$\n",
    "y(t) = y(t) * \\sin(t)\n",
    "$$\n",
    "\n",
    "where the exact solution is\n",
    "\n",
    "$$\n",
    "y(t) = -e^{1 - \\cos(t)}\n",
    "$$"
   ]
  },
  {
   "cell_type": "code",
   "execution_count": null,
   "metadata": {},
   "outputs": [],
   "source": [
    "(defn y [yn tn] (* yn (Math/sin tn)))\n",
    "\n",
    "(defn y-exact [t]\n",
    "  (- (Math/pow Math/E (- 1 (Math/cos t)))))"
   ]
  },
  {
   "cell_type": "markdown",
   "metadata": {},
   "source": [
    "For each $\\Delta t$ in $[\\frac{1}{4}, \\frac{1}{8}, \\frac{1}{16}, \\frac{1}{32} \\frac{1}{64}]$, we can plot the results and compare the global truncation error at $t = 1$."
   ]
  },
  {
   "cell_type": "code",
   "execution_count": null,
   "metadata": {},
   "outputs": [],
   "source": [
    "(def dts [(/ 1. 4) (/ 1. 8) (/ 1. 16) (/ 1. 32) (/ 1. 64)])"
   ]
  },
  {
   "cell_type": "code",
   "execution_count": null,
   "metadata": {},
   "outputs": [],
   "source": [
    "(defn compare-rk4\n",
    "  \"Compare Runge-Kutta 4th order explicit method for given dts\"\n",
    "  [dts]\n",
    "  (reduce\n",
    "   #(let [s (str \"dt of \" %2)\n",
    "          [ys ts] (rk4 y -1 0 1 %2)]\n",
    "      (add-lines %1 ts ys :series-label s))\n",
    "   (function-plot y-exact 0 1 :title \"y(t) vs rk4\" :legend true)\n",
    "   dts))"
   ]
  },
  {
   "cell_type": "code",
   "execution_count": null,
   "metadata": {},
   "outputs": [],
   "source": [
    "(defn plot-truncation-err\n",
    "  \"Plot the error for each `dt` in `dts` at `t = 1` in loglog\"\n",
    "  [test-function exact dts]\n",
    "  (let [es  (mapv (comp #(Math/log10 %) #(Math/abs (- exact %))\n",
    "                        last first test-function) dts)\n",
    "        dts (mapv #(Math/log10 %) dts)]\n",
    "    (doto (xy-plot dts es\n",
    "                   :title \"Error at t=1\"\n",
    "                   :x-label \"log10(dt)\"\n",
    "                   :y-label \"log10(error)\")\n",
    "      (set-y-range (reduce min es) (reduce max es)))))"
   ]
  },
  {
   "cell_type": "markdown",
   "metadata": {},
   "source": [
    "First visually plotting the results just to see how it performs globally:"
   ]
  },
  {
   "cell_type": "code",
   "execution_count": null,
   "metadata": {},
   "outputs": [],
   "source": [
    "(-> (compare-rk4 dts)\n",
    "    (set-y-range -1.625 -0.95)\n",
    "    (.createBufferedImage 600 300))"
   ]
  },
  {
   "cell_type": "markdown",
   "metadata": {},
   "source": [
    "And then plotting the global truncation error at $t = 1$ in loglog scale to see the 4th order convergence:"
   ]
  },
  {
   "cell_type": "code",
   "execution_count": null,
   "metadata": {},
   "outputs": [],
   "source": [
    "(-> (plot-truncation-err #(rk4 y -1 0 1 %) (y-exact 1) dts)\n",
    "    (.createBufferedImage 600 400))"
   ]
  },
  {
   "cell_type": "markdown",
   "metadata": {},
   "source": [
    "Remember, because this is in loglog scale, step-size increases to the right and error increases upwards."
   ]
  }
 ],
 "metadata": {
  "language_info": {
   "name": "python",
   "pygments_lexer": "ipython3"
  }
 },
 "nbformat": 4,
 "nbformat_minor": 2
}
