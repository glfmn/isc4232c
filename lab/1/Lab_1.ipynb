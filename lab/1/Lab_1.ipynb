{
 "cells": [
  {
   "cell_type": "markdown",
   "metadata": {},
   "source": [
    "# Lab 1: Review and IVPs\n",
    "\n",
    "**Gwen Lofman**, ISC4232C"
   ]
  },
  {
   "cell_type": "code",
   "execution_count": null,
   "metadata": {},
   "outputs": [],
   "source": [
    "(require '[clojupyter.misc.helper :as helper])\n",
    "(require '[clojupyter.misc.display :as display])\n",
    "\n",
    "(helper/add-dependencies '[incanter \"1.5.7\"])\n",
    "(helper/add-dependencies '[org.clojure/math.numeric-tower \"0.0.4\"])\n",
    "\n",
    "(require '[clojure.core.reducers :as r])\n",
    "(require '[clojure.math.numeric-tower :as math])\n",
    "(use '(incanter core stats charts io))"
   ]
  },
  {
   "cell_type": "markdown",
   "metadata": {},
   "source": [
    "## Newton's Method\n",
    "\n",
    "Newton's method iteratively solves for the roots of a funciton by \"chasing\" the functions derivative.  It is a well known method for it's good perfofrmance, but it may fail to converge in certain circumstances, so the choice of the initial position $x_0$ to search through the domain can change the solution."
   ]
  },
  {
   "cell_type": "code",
   "execution_count": null,
   "metadata": {},
   "outputs": [],
   "source": [
    "(defn newtons-method\n",
    "  \"Newton's method for finding the roots of a function\n",
    "\n",
    "  Use the function `f` and its derivative `df` to calculate its\n",
    "  roots starting from the initial guess `x0`.  Newton's method\n",
    "  is sensitive to the initial guess used for `x0`; in other words,\n",
    "  it may converge with one choice for `x0` but not for another.\n",
    "\n",
    "  To prevent infinite recursion in the case that Newton's method\n",
    "  doesn't converge, terminate early after `maxit` iterations.\n",
    "  Otherwise, terminate once the difference between successive\n",
    "  iterations is less than `tol`.\n",
    "\n",
    "  Returns the solution and the number of iterations it took to\n",
    "  reach it ([xk i]).\"\n",
    "  [maxit tol f df x0]\n",
    "  (loop [i 1 x x0]\n",
    "    (let [xk (- x (/ (f x) (df x)))]\n",
    "      (if (or (>= i maxit) (> tol (Math/abs ^double (- xk x))))\n",
    "        [(double xk) i]\n",
    "        (recur (inc i) xk)))))"
   ]
  },
  {
   "cell_type": "markdown",
   "metadata": {},
   "source": [
    "To check that our function operates as expected, use the test function $f(x) = x^2 - 1$ because $f(x) = 0$ when $x = -1,1$."
   ]
  },
  {
   "cell_type": "code",
   "execution_count": null,
   "metadata": {},
   "outputs": [],
   "source": [
    "(let [f  #(- (* % %) 1) ;; Test function\n",
    "      df #(* 2 %)       ;; Derivative\n",
    "      x0 2]             ;; Initial Point\n",
    "  (display/latex\n",
    "   (str\n",
    "    \"\\\\begin{array}{l l l l}\"\n",
    "    (reduce (fn [s k]\n",
    "              (let [[x_k i] (newtons-method k 1.0E-8 f df x0)]\n",
    "                (str s (clojure.pprint/cl-format\n",
    "                        nil \" ~d & ~8e & ~12e & ~8e \\\\\\\\\\n\"\n",
    "                        k x_k (Math/abs (- x_k 1)) (f x_k)))))\n",
    "            \"k & x_k & abs(x_k - 1) & f(x_k) \\\\\\\\\\\\hline\\n\"\n",
    "            (range 1 7))\n",
    "    \"\\\\end{array}\")))"
   ]
  },
  {
   "cell_type": "markdown",
   "metadata": {},
   "source": [
    "This indicates that the function works as expected: it demonstrates that as the number of iterations ($k$) increases, we converge on the solution pretty quickly."
   ]
  },
  {
   "cell_type": "markdown",
   "metadata": {},
   "source": [
    "## Langrange Interpolation\n",
    "\n",
    "Lagrange interpolation defines a polynomial which approximates a given function $f$ from a set of points $\\{x_i\\}^n_{i=1}$.  Here we examine the performance of Langrange Interpolation in terms of the error between the function $f$ and its interpolating function."
   ]
  },
  {
   "cell_type": "code",
   "execution_count": null,
   "metadata": {},
   "outputs": [],
   "source": [
    "(defn lagrange-basis\n",
    "  \"Basis set of Lagrange Polynomials evaluated at x\n",
    "\n",
    "  Given a set of interpolating points `xis` and the target point\n",
    "  `x`, return a vector of each Lagrange Polynomial evaluated at\n",
    "  the target point.\"\n",
    "  [xis x]\n",
    "  (letfn [;; Evaluate value of L_i(x)\n",
    "          (lagrange [x xi xs]\n",
    "            (transduce (map #(/ (- x %) (- xi %))) * xs))\n",
    "          ;; A set xs without the point x\n",
    "          (except [x xs]\n",
    "            (into [] (clojure.set/difference (set xs) #{x})))]\n",
    "    (mapv #(lagrange x % (except % xis)) xis)))"
   ]
  },
  {
   "cell_type": "code",
   "execution_count": null,
   "metadata": {},
   "outputs": [],
   "source": [
    "(defn lagrange-interp\n",
    "  \"Interpolate a function at x from points on the function\n",
    "\n",
    "  Given a vector of points `ps` in the form `[[x y]]`, use\n",
    "  Lagrange interpolation to approximate the value of the\n",
    "  function at the point `x` and return the estimate `y`.\"\n",
    "  [ps x]\n",
    "  (let [ys (mapv second ps)\n",
    "        xs (lagrange-basis (mapv first ps) x)]\n",
    "    (reduce + (map #(* %1 %2) xs ys))))"
   ]
  },
  {
   "cell_type": "code",
   "execution_count": null,
   "metadata": {},
   "outputs": [],
   "source": [
    "(defn lagrange-points\n",
    "  \"Calculate points for interpolation\n",
    "\n",
    "  Use the function `f` and a set `xs` of points to interpolate\"\n",
    "  [f xs] (mapv #(vector % (f %)) xs))"
   ]
  },
  {
   "cell_type": "markdown",
   "metadata": {},
   "source": [
    "### Runge's Phenomenon\n",
    "\n",
    "To verify the interpolation code's implementations, we investivate Runge's phenomenon where the quality of the interpolation degrades at the edge of the interpolated region.\n",
    "\n",
    "Using lagrange interpolation on Runge's function we can see this phenomenon in action.\n",
    "\n",
    "$$\\text{runge}(x) = \\frac{1}{25x^2 + 1}$$"
   ]
  },
  {
   "cell_type": "code",
   "execution_count": null,
   "metadata": {},
   "outputs": [],
   "source": [
    "(defn runge [x]\n",
    "  (/ 1 (+ 1 (* 25 (* x x)))))\n",
    "\n",
    "(-> (function-plot runge -1 1 :title \"Runge's function\")\n",
    "    (.createBufferedImage 600 400))\n"
   ]
  },
  {
   "cell_type": "markdown",
   "metadata": {},
   "source": [
    "We compare, for $n$ interpolating points, the visual accuracy of using uniformly selected points versus chebyshev points."
   ]
  },
  {
   "cell_type": "code",
   "execution_count": null,
   "metadata": {},
   "outputs": [],
   "source": [
    "(defn abs-err [v a]\n",
    "  (Math/abs (- v a)))\n",
    "\n",
    "(defn chebyshev [n]\n",
    "  (mapv #(Math/cos (* Math/PI (/ ( - (* 2 %) 1) (* 2 n))))\n",
    "        (range 1 (inc n))))\n",
    "\n",
    "(defn uniform [n]\n",
    "  (range -1 1.0001 (/ 2.000001 (dec n))))\n",
    "\n",
    "(defn runges-phenomenon [f n & basis]\n",
    "  (reduce\n",
    "   (fn [plot {:keys [name basis]}]\n",
    "     (let [ps (lagrange-points #(f %) (basis n))\n",
    "           plot-name (str name \" interpolation\")]\n",
    "       (-> plot\n",
    "           (add-points (mapv first ps) (mapv second ps)\n",
    "                       :series-label name)\n",
    "           (add-function #(lagrange-interp ps %) -1 1\n",
    "                         :series-label plot-name))))\n",
    "   (function-plot #(f %) -1 1\n",
    "                  :title (str n \" Point Interpolation\")\n",
    "                  :y-label \"f(x)\"\n",
    "                  :legend true\n",
    "                  :series-label \"f(x)\")\n",
    "   basis))\n",
    "\n",
    "(defn runges-error [f n]\n",
    "  (let [ups (lagrange-points #(f %) (uniform n))\n",
    "        cps (lagrange-points #(f %) (chebyshev n))\n",
    "        err (fn [ps]\n",
    "              #(abs-err (f %) (lagrange-interp ps %)))]\n",
    "    (-> (function-plot (err ups) -1 1\n",
    "                       :title \"Error\"\n",
    "                       :legend true\n",
    "                       :series-label \"uniform error\")\n",
    "        (add-function (err cps) -1 1\n",
    "                      :series-label \"chebyshev error\")\n",
    "        (.createBufferedImage 600 200))))\n"
   ]
  },
  {
   "cell_type": "markdown",
   "metadata": {},
   "source": [
    "#### 3 Points"
   ]
  },
  {
   "cell_type": "code",
   "execution_count": null,
   "metadata": {},
   "outputs": [],
   "source": [
    "(-> (runges-phenomenon runge 3 {:name \"uniform\" :basis uniform} {:name \"chebyshev\" :basis chebyshev})\n",
    "    (.createBufferedImage 600 400))"
   ]
  },
  {
   "cell_type": "code",
   "execution_count": null,
   "metadata": {},
   "outputs": [],
   "source": [
    "(runges-error runge 3)"
   ]
  },
  {
   "cell_type": "markdown",
   "metadata": {},
   "source": [
    "#### 5 Points"
   ]
  },
  {
   "cell_type": "code",
   "execution_count": null,
   "metadata": {},
   "outputs": [],
   "source": [
    "(-> (runges-phenomenon runge 5 {:name \"uniform\" :basis uniform} {:name \"chebyshev\" :basis chebyshev})\n",
    "    (.createBufferedImage 600 400))"
   ]
  },
  {
   "cell_type": "code",
   "execution_count": null,
   "metadata": {},
   "outputs": [],
   "source": [
    "(runges-error runge 5)"
   ]
  },
  {
   "cell_type": "markdown",
   "metadata": {},
   "source": [
    "#### 9 Points"
   ]
  },
  {
   "cell_type": "code",
   "execution_count": null,
   "metadata": {},
   "outputs": [],
   "source": [
    "(-> (runges-phenomenon runge 9 {:name \"uniform\" :basis uniform} {:name \"chebyshev\" :basis chebyshev})\n",
    "    (.createBufferedImage 600 400))"
   ]
  },
  {
   "cell_type": "code",
   "execution_count": null,
   "metadata": {},
   "outputs": [],
   "source": [
    "(runges-error runge 9)"
   ]
  },
  {
   "cell_type": "markdown",
   "metadata": {},
   "source": [
    "#### 17 Points"
   ]
  },
  {
   "cell_type": "code",
   "execution_count": null,
   "metadata": {},
   "outputs": [],
   "source": [
    "(-> (runges-phenomenon runge 17 {:name \"uniform\" :basis uniform})\n",
    "    (.createBufferedImage 600 400))"
   ]
  },
  {
   "cell_type": "code",
   "execution_count": null,
   "metadata": {},
   "outputs": [],
   "source": [
    "(-> (runges-phenomenon runge 17 {:name \"chebyshev\" :basis chebyshev})\n",
    "    (.createBufferedImage 600 400))"
   ]
  },
  {
   "cell_type": "code",
   "execution_count": null,
   "metadata": {},
   "outputs": [],
   "source": [
    "(runges-error runge 17)"
   ]
  },
  {
   "cell_type": "markdown",
   "metadata": {},
   "source": [
    "### Runge's Phenomenon Cont.\n",
    "\n",
    "We can perform a similar examination of the function $f(x) = \\vert x \\vert$."
   ]
  },
  {
   "cell_type": "code",
   "execution_count": null,
   "metadata": {},
   "outputs": [],
   "source": [
    "(-> (runges-phenomenon #(Math/abs %) 3 {:name \"uniform\" :basis uniform} {:name \"chebyshev\" :basis chebyshev})\n",
    "    (.createBufferedImage 600 400))"
   ]
  },
  {
   "cell_type": "code",
   "execution_count": null,
   "metadata": {},
   "outputs": [],
   "source": [
    "(runges-error #(Math/abs %) 3)"
   ]
  },
  {
   "cell_type": "code",
   "execution_count": null,
   "metadata": {},
   "outputs": [],
   "source": [
    "(-> (runges-phenomenon #(Math/abs %) 5 {:name \"uniform\" :basis uniform} {:name \"chebyshev\" :basis chebyshev})\n",
    "    (.createBufferedImage 600 400))"
   ]
  },
  {
   "cell_type": "code",
   "execution_count": null,
   "metadata": {},
   "outputs": [],
   "source": [
    "(runges-error #(Math/abs %) 5)"
   ]
  },
  {
   "cell_type": "code",
   "execution_count": null,
   "metadata": {},
   "outputs": [],
   "source": [
    "(-> (runges-phenomenon #(Math/abs %) 9 {:name \"uniform\" :basis uniform} {:name \"chebyshev\" :basis chebyshev})\n",
    "    (.createBufferedImage 600 400))"
   ]
  },
  {
   "cell_type": "code",
   "execution_count": null,
   "metadata": {},
   "outputs": [],
   "source": [
    "(runges-error #(Math/abs %) 9)"
   ]
  },
  {
   "cell_type": "code",
   "execution_count": null,
   "metadata": {},
   "outputs": [],
   "source": [
    "(-> (runges-phenomenon #(Math/abs %) 17 {:name \"uniform\" :basis uniform})\n",
    "    (.createBufferedImage 600 400))"
   ]
  },
  {
   "cell_type": "code",
   "execution_count": null,
   "metadata": {},
   "outputs": [],
   "source": [
    "(-> (runges-phenomenon #(Math/abs %) 17 {:name \"chebyshev\" :basis chebyshev})\n",
    "    (.createBufferedImage 600 400))"
   ]
  },
  {
   "cell_type": "code",
   "execution_count": null,
   "metadata": {},
   "outputs": [],
   "source": [
    "(runges-error #(Math/abs %) 17)"
   ]
  },
  {
   "cell_type": "markdown",
   "metadata": {},
   "source": [
    "### Analysis\n",
    "\n",
    "Interestingly, the error when interpolating each function appears quite similar in shape across the different number of interpolating points.  This may suggest that using the chebyshev points as the basis for lagrange interpolation can reduce error no matter what function is being interpolated.  We can convince ourselves of this further by shifting runge's function by 2."
   ]
  },
  {
   "cell_type": "code",
   "execution_count": null,
   "metadata": {},
   "outputs": [],
   "source": [
    "(runges-phenomenon #(runge (+ % 2)) 9)"
   ]
  },
  {
   "cell_type": "markdown",
   "metadata": {},
   "source": [
    "here we examine that the chebyshev points have larger error towards the center of the distribution, but as the magnitude of the function's values decreases, so does the error on the function."
   ]
  },
  {
   "cell_type": "code",
   "execution_count": null,
   "metadata": {},
   "outputs": [],
   "source": [
    "(runges-error #(runge (+ % 2)) 9)"
   ]
  },
  {
   "cell_type": "markdown",
   "metadata": {},
   "source": [
    "## Euler Methods\n",
    "\n",
    "Euler methods are numerical methods for solving ODEs.  In this case we will examine the initial value problem:\n",
    "\n",
    "$$\n",
    "\\begin{array}{ l r }\n",
    "  y'(t) = −ty(t), & y(0) = 1\\\\\n",
    "\\end{array}\n",
    "$$"
   ]
  },
  {
   "cell_type": "code",
   "execution_count": null,
   "metadata": {},
   "outputs": [],
   "source": [
    "(def y0 1)\n",
    "\n",
    "(defn y' [t yn] (- (* t yn)))\n",
    "\n",
    "(defn y'' [yn t] (- (+ (* t (y' yn t)) yn)))"
   ]
  },
  {
   "cell_type": "markdown",
   "metadata": {},
   "source": [
    "With the exact solution:\n",
    "\n",
    "$$\n",
    "\\begin{array}{ l r }\n",
    "  y(t) = e^{\\frac{-t^2}{2}}, & 0 \\leq t \\leq 1\\\\\n",
    "\\end{array}\n",
    "$$"
   ]
  },
  {
   "cell_type": "code",
   "execution_count": null,
   "metadata": {},
   "outputs": [],
   "source": [
    "(defn y [t] (math/expt Math/E (/ (- (* t t)) 2)))"
   ]
  },
  {
   "cell_type": "markdown",
   "metadata": {},
   "source": [
    "We can inspect the function and its derivatives:"
   ]
  },
  {
   "cell_type": "code",
   "execution_count": null,
   "metadata": {},
   "outputs": [],
   "source": [
    "(-> (function-plot y -2 2\n",
    "                   :title \"y(t), y'(t), y''(t)\"\n",
    "                   :y-label \"y\" :x-label \"-2 < t < 2\"\n",
    "                   :legend true)\n",
    "    (add-function #(y' (y %) %) -2 2 :series-label \"y'\")\n",
    "    (add-function #(y'' (y %) %) -2 2 :series-label \"y''\")\n",
    "    (.createBufferedImage 600 400))"
   ]
  },
  {
   "cell_type": "markdown",
   "metadata": {},
   "source": [
    "And define a few functions to compare the different methods of solving the problem to the exact solution:"
   ]
  },
  {
   "cell_type": "code",
   "execution_count": null,
   "metadata": {},
   "outputs": [],
   "source": [
    "(defn compare-solutions\n",
    "  \"Create a plot comparing y(t) to Euler method solutions\"\n",
    "  [title y t0 T & series]\n",
    "  (reduce (fn [plot {:keys [series ys ts]}]\n",
    "            (add-lines plot ts ys :series-label series))\n",
    "          (function-plot y t0 T :title title :legend true)\n",
    "          series))\n",
    "\n",
    "(defn tabulate-err\n",
    "  \"Tabulate error for each `1/dt` in `dts`\"\n",
    "  [test-function dts]\n",
    "  (display/latex\n",
    "   (str\n",
    "    \"\\\\begin{array}{l l l l l}\"\n",
    "    (reduce  #(let [[ys ts] (test-function (double (/ 1 %2)))\n",
    "                    yy (last ys)\n",
    "                    t (last ts)]\n",
    "                (str %1 (clojure.pprint/cl-format\n",
    "                         nil \" 1/~d & ~d & ~8e & ~8e & ~12e \\\\\\\\\\n\"\n",
    "                         %2 t yy (y t) (Math/abs (- (y t) yy)))))\n",
    "             \"dt & t & yn & y(t) & abs(yn - y(t)) \\\\\\\\\\\\hline\\n\"\n",
    "             dts)\n",
    "    \"\\\\end{array}\")))\n",
    "\n",
    "(defn plot-err\n",
    "  \"Plot the error for each `1/dt` in `dts` at `t = 1` in loglog\"\n",
    "  [test-function dts]\n",
    "  (let [es (mapv (comp #(Math/log10 %) #(Math/abs (- (y 1) %))\n",
    "                       last first test-function) dts)\n",
    "        dts (mapv #(/ (Math/log %) (Math/log 2)) dts)]\n",
    "    (doto (xy-plot dts es\n",
    "                   :title \"Error at t=1\"\n",
    "                   :x-label \"log2(dt)\"\n",
    "                   :y-label \"log10(error)\")\n",
    "      (set-y-range (reduce min es) (reduce max es)))))"
   ]
  },
  {
   "cell_type": "markdown",
   "metadata": {},
   "source": [
    "### Forward Euler"
   ]
  },
  {
   "cell_type": "code",
   "execution_count": null,
   "metadata": {},
   "outputs": [],
   "source": [
    "(defn forward-euler\n",
    "  \"Solve the IVP for `f` with initial conditions `y0` and `t0`\n",
    "\n",
    "  Will take steps of size `dt` until it reaches the final time\n",
    "  `T`.  Error is proportional to the size of the time-step `dt`,\n",
    "  but so is performance.\n",
    "\n",
    "  Returns the vector of approximate solutions `ys` and their t\n",
    "  values `ts` as [`ts` `ys`]\"\n",
    "  [y0 t0 T dt f]\n",
    "  (loop [yn y0 tn t0 ys [] ts []]\n",
    "    (if (< tn T)\n",
    "      (recur (+ yn (* dt (f yn tn)))\n",
    "             (+ dt tn)\n",
    "             (conj ys yn)\n",
    "             (conj ts tn))\n",
    "      [(conj ys yn) (conj ts tn)])))"
   ]
  },
  {
   "cell_type": "code",
   "execution_count": null,
   "metadata": {},
   "outputs": [],
   "source": [
    "(defn compare-forward\n",
    "  \"Compare Forward Euler for the given dts\"\n",
    "  [dts]\n",
    "  (apply (partial compare-solutions \"y(t) vs Forward Euler\" y 0 1)\n",
    "         (reduce\n",
    "          #(let [s (str \"dt of 1/\" %2)\n",
    "                 dt (double (/ 1 %2))\n",
    "                 [ys ts] (forward-euler 1 0 1 dt y')]\n",
    "             (conj %1 {:series s :ys ys :ts ts}))\n",
    "          []\n",
    "          dts)))"
   ]
  },
  {
   "cell_type": "markdown",
   "metadata": {},
   "source": [
    "We can plot Forward Euler versus the exact solution to the problem to get an intuitive sense of how it performs:"
   ]
  },
  {
   "cell_type": "code",
   "execution_count": null,
   "metadata": {},
   "outputs": [],
   "source": [
    "(-> (compare-forward [2 4 8 16 32])\n",
    "    (.createBufferedImage 600 400))"
   ]
  },
  {
   "cell_type": "markdown",
   "metadata": {},
   "source": [
    "We can see here that Forward Euler appears to over-estimate the solution to the problem, with the estimated value always being greater than the true value. We inspect further by tabulating the error that has accumulated at the final time $t = 1$:"
   ]
  },
  {
   "cell_type": "code",
   "execution_count": null,
   "metadata": {},
   "outputs": [],
   "source": [
    "(tabulate-err #(forward-euler 1 0 1 % y') [2 4 8 16 32])"
   ]
  },
  {
   "cell_type": "code",
   "execution_count": null,
   "metadata": {},
   "outputs": [],
   "source": [
    "(-> (plot-err #(forward-euler 1 0 1 (double (/ 1 %)) y') [2 4 8 16 32])\n",
    "    (.createBufferedImage 600 400))"
   ]
  },
  {
   "cell_type": "markdown",
   "metadata": {},
   "source": [
    "We can see that Forward Euler converges exponentially, or what appears to be very slightly slower than exponentially."
   ]
  },
  {
   "cell_type": "markdown",
   "metadata": {},
   "source": [
    "## Backward Euler"
   ]
  },
  {
   "cell_type": "code",
   "execution_count": null,
   "metadata": {},
   "outputs": [],
   "source": [
    "(defn backward-euler\n",
    "  \"Solve the IVP for `f` and its derivative `dfdy`\n",
    "\n",
    "  Given initial conditions `y0` and `t0`, final time `T`,\n",
    "  approximate the solution to the IVP, returning a vector of y\n",
    "  values `ys` and t values `ts` in the form `[ys ts]`.\n",
    "\n",
    "  Optional arguments include: `:maxit`, number of maximum\n",
    "  iterations and `:tol`, the tolerance for convergence for\n",
    "  each time step.\n",
    "\n",
    "  See also: newtons-method\"\n",
    "  [y0 t0 T dt f dfdy\n",
    "   & {:keys [tol maxit] :or {maxit 1000 tol 1.0E-6}}]\n",
    "  (letfn [;; Calculate a single backwards Euler step\n",
    "          ;; using Newton's method for added robustness\n",
    "          (step [yn tn]\n",
    "            (letfn [(g    [y] (- y yn (* dt (f y tn))))\n",
    "                    (dgdy [y] (- 1 (* dt (dfdy y tn))))]\n",
    "              (first (newtons-method maxit tol g dgdy tn))))]\n",
    "    (loop [yn y0 tn t0 ys [] ts []]\n",
    "      (if (< tn T)\n",
    "        (let [t1 (+ dt tn)]\n",
    "          (recur (step yn t1) t1 (conj ys yn) (conj ts tn)))\n",
    "        [(conj ys yn) (conj ts tn)]))))"
   ]
  },
  {
   "cell_type": "code",
   "execution_count": null,
   "metadata": {},
   "outputs": [],
   "source": [
    "(defn compare-backward\n",
    "  \"Compare backward Euler for sample problem with the given dts\"\n",
    "  [dts]\n",
    "  (apply (partial compare-solutions \"y(t) vs Backward Euler\" y 0 1)\n",
    "         (reduce\n",
    "          #(let [s (str \"dt of 1/\" %2)\n",
    "                 dt (double (/ 1 %2))\n",
    "                 [ys ts] (backward-euler (y 1e-9) 1e-9 1 dt y' y'')]\n",
    "             (conj %1 {:series s :ys ys :ts ts}))\n",
    "          []\n",
    "          dts)))"
   ]
  },
  {
   "cell_type": "markdown",
   "metadata": {},
   "source": [
    "We can plot Backward Euler versus the exact solution to the problem to get an intuitive sense of how it performs:"
   ]
  },
  {
   "cell_type": "code",
   "execution_count": null,
   "metadata": {},
   "outputs": [],
   "source": [
    "(-> (compare-backward [2 4 8 16 32])\n",
    "    (.createBufferedImage 600 400))"
   ]
  },
  {
   "cell_type": "markdown",
   "metadata": {},
   "source": [
    "We can see here that Backward Euler appears to under-estimate the solution to the problem, with the estimated value always being lesser than the true value.  We inspect further by tabulating the error that has accumulated at the final time $t = 1$:"
   ]
  },
  {
   "cell_type": "code",
   "execution_count": null,
   "metadata": {},
   "outputs": [],
   "source": [
    "(tabulate-err #(backward-euler 1 0 1 % y' y'') [2 4 8 16 32])"
   ]
  },
  {
   "cell_type": "code",
   "execution_count": null,
   "metadata": {},
   "outputs": [],
   "source": [
    "(-> (plot-err #(backward-euler 1 0 1 (double (/ 1 %)) y' y'') [2 4 8 16 32])\n",
    "    (.createBufferedImage 600 400))"
   ]
  },
  {
   "cell_type": "code",
   "execution_count": null,
   "metadata": {},
   "outputs": [],
   "source": [
    "We can see that Backward Euler converges exponentially, or what appears to be very slightly faster than exponentially."
   ]
  }
 ],
 "metadata": {
  "language_info": {
   "name": "python",
   "pygments_lexer": "ipython3"
  }
 },
 "nbformat": 4,
 "nbformat_minor": 2
}
